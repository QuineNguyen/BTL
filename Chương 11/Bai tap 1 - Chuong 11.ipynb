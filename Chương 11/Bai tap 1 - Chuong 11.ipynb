{
 "cells": [
  {
   "cell_type": "markdown",
   "metadata": {},
   "source": [
    "## Chương 11: Deep Learning in Image Processing - Object Detection, and more"
   ]
  },
  {
   "cell_type": "markdown",
   "metadata": {},
   "source": [
    "#### __Bài tập 1:__ Hãy thử sử dụng mô hình YOLO v3 đã được huấn luyện sẵn để triển khai phát hiện đối tượng"
   ]
  },
  {
   "cell_type": "markdown",
   "metadata": {},
   "source": [
    "#### __Giải thích code__"
   ]
  },
  {
   "cell_type": "markdown",
   "metadata": {},
   "source": [
    "#### 1. Nhập các thư viện cần thiết"
   ]
  },
  {
   "cell_type": "code",
   "execution_count": 1,
   "metadata": {},
   "outputs": [],
   "source": [
    "# cv2 để xử lý ảnh và video\n",
    "import cv2\n",
    "# numpy hỗ trợ tính toán số học, đặc biệt với các mảng đa chiều\n",
    "import numpy as np\n",
    "# time để đo thời gian, sử dụng trong việc tính FPS (Frames Per Second)\n",
    "import time"
   ]
  },
  {
   "cell_type": "markdown",
   "metadata": {},
   "source": [
    "#### 2. Tải và cấu hình mô hình YOLO v3"
   ]
  },
  {
   "cell_type": "code",
   "execution_count": 2,
   "metadata": {},
   "outputs": [],
   "source": [
    "# Tải mạng YOLO v3 bằng cách sử dụng tệp trọng số (yolov3.weights) và tệp cấu hình (yolov3.cfg)\n",
    "net = cv2.dnn.readNet(\"yolov3.weights\", \"yolov3.cfg\")\n",
    "classes = []\n",
    "# coco.names: Tệp chứa danh sách tên các lớp đối tượng mà YOLO v3 có thể phát hiện (ví dụ: người, xe hơi, chó, mèo,...)\n",
    "with open(\"coco.names\", \"r\") as f:\n",
    "    classes = [line.strip() for line in f.readlines()]\n",
    "# Lấy tên tất cả các lớp trong mạng YOLO v3\n",
    "layer_names = net.getLayerNames()\n",
    "# Xác định các lớp xuất ra (output layers) của mô hình YOLO v3. Đây là các lớp mà mô hình sẽ trả về kết quả phát hiện đối tượng\n",
    "output_layers = [layer_names[i - 1] for i in net.getUnconnectedOutLayers()]\n",
    "# Tạo màu ngẫu nhiên cho mỗi lớp đối tượng để hiển thị khi vẽ khung hộp quanh đối tượng\n",
    "colors = np.random.uniform(0, 255, size=(len(classes), 3))"
   ]
  },
  {
   "cell_type": "code",
   "execution_count": 3,
   "metadata": {},
   "outputs": [],
   "source": [
    "# Mở webcam mặc định (thường là webcam tích hợp)\n",
    "cap = cv2.VideoCapture(0)\n",
    "\n",
    "# Chọn kiểu font để hiển thị văn bản trên ảnh\n",
    "font = cv2.FONT_HERSHEY_PLAIN\n",
    "# Biến để tính FPS (Frames Per Second)\n",
    "starting_time = time.time()\n",
    "frame_id = 0\n",
    "# Bắt đầu vòng lặp vô hạn để xử lý liên tục các khung hình từ webcam\n",
    "while True:\n",
    "    # Đọc một khung hình từ webcam\n",
    "    _, frame = cap.read()\n",
    "    frame_id += 1\n",
    "    # Lấy kích thước (chiều cao, chiều rộng, số kênh màu) của khung hình\n",
    "    height, width, channels = frame.shape\n",
    "    # Chuyển đổi khung hình thành blob để đưa vào mạng YOLO v3\n",
    "    blob = cv2.dnn.blobFromImage(frame, 0.00392, (416, 416), (0, 0, 0), True, crop=False)\n",
    "    # Đưa blob vào mạng YOLO v3\n",
    "    net.setInput(blob)\n",
    "    # Thực hiện truyền dữ liệu qua mạng và lấy kết quả từ các lớp xuất ra\n",
    "    outs = net.forward(output_layers)\n",
    "    # Lưu trữ ID lớp của đối tượng được phát hiện\n",
    "    class_ids = []\n",
    "    # Lưu trữ mức độ tự tin của dự đoán\n",
    "    confidences = []\n",
    "    # Lưu trữ tọa độ của khung hộp bao quanh đối tượng\n",
    "    boxes = []\n",
    "    # Duyệt qua từng lớp xuất ra\n",
    "    for out in outs:\n",
    "        # Duyệt qua từng phát hiện trong lớp đó\n",
    "        for detection in out:\n",
    "            # Lấy các điểm số cho từng lớp\n",
    "            scores = detection[5:]\n",
    "            # Xác định lớp có điểm số cao nhất\n",
    "            class_id = np.argmax(scores)\n",
    "            # Lấy điểm số tự tin cho lớp đó\n",
    "            confidence = scores[class_id]\n",
    "            # Chỉ xem xét những phát hiện có độ tự tin lớn hơn 0.2\n",
    "            if confidence > 0.2:\n",
    "                # center_x và center_y: Tọa độ của tâm khung hộp\n",
    "                center_x = int(detection[0] * width)\n",
    "                center_y = int(detection[1] * height)\n",
    "                # w và h: Chiều rộng và chiều cao của khung hộp\n",
    "                w = int(detection[2] * width)\n",
    "                h = int(detection[3] * height)\n",
    "                # x và y: Tọa độ góc trên bên trái của khung hộp\n",
    "                x = int(center_x - w / 2)\n",
    "                y = int(center_y - h / 2)\n",
    "                # Thêm thông tin vào danh sách\n",
    "                boxes.append([x, y, w, h])\n",
    "                confidences.append(float(confidence))\n",
    "                class_ids.append(class_id)\n",
    "    # NMSBoxes: Giảm số lượng các khung hộp trùng lặp bằng cách giữ lại những khung hộp có độ tự tin cao nhất\n",
    "    # Lưu trữ các chỉ mục của các khung hộp được giữ lại sau khi áp dụng NMS\n",
    "    indexes = cv2.dnn.NMSBoxes(boxes, confidences, 0.8, 0.3)\n",
    "\n",
    "    for i in range(len(boxes)):\n",
    "        # Kiểm tra xem chỉ mục hiện tại có nằm trong danh sách các khung hộp sau NMS hay không\n",
    "        if i in indexes:\n",
    "            x, y, w, h = boxes[i]\n",
    "            label = str(classes[class_ids[i]])\n",
    "            confidence = confidences[i]\n",
    "            color = colors[class_ids[i]]\n",
    "            # Vẽ khung hộp bao quanh đối tượng\n",
    "            cv2.rectangle(frame, (x, y), (x + w, y + h), color, 2)\n",
    "            # Hiển thị tên lớp và độ tự tin trên khung hộp\n",
    "            cv2.putText(frame, label + \" \" + str(round(confidence, 2)), (x, y + 30), font, 3, color, 3)\n",
    "\n",
    "    # Thời gian đã trôi qua kể từ khi bắt đầu chạy vòng lặp\n",
    "    elapsed_time = time.time() - starting_time\n",
    "    # Tính số khung hình được xử lý mỗi giây\n",
    "    fps = frame_id / elapsed_time\n",
    "    # Hiển thị giá trị FPS trên khung hình tại vị trí (10, 50) với màu đen\n",
    "    cv2.putText(frame, \"FPS: \" + str(round(fps, 2)), (10, 50), font, 4, (0, 0, 0), 3)\n",
    "    # Hiển thị khung hình đã được xử lý với các khung hộp và văn bản\n",
    "    cv2.imshow(\"Image\", frame)\n",
    "    # Chờ phím nhấn trong khoảng 1ms\n",
    "    key = cv2.waitKey(1)\n",
    "    # Nếu phím nhấn là Esc (mã ASCII: 27) thì thoát khỏi vòng lặp\n",
    "    if key == 27:\n",
    "        break\n",
    "\n",
    "# Giải phóng tài nguyên của webcam\n",
    "cap.release()\n",
    "# Đóng tất cả các cửa sổ hiển thị của OpenCV\n",
    "cv2.destroyAllWindows()"
   ]
  }
 ],
 "metadata": {
  "kernelspec": {
   "display_name": "Python 3",
   "language": "python",
   "name": "python3"
  },
  "language_info": {
   "codemirror_mode": {
    "name": "ipython",
    "version": 3
   },
   "file_extension": ".py",
   "mimetype": "text/x-python",
   "name": "python",
   "nbconvert_exporter": "python",
   "pygments_lexer": "ipython3",
   "version": "3.11.9"
  }
 },
 "nbformat": 4,
 "nbformat_minor": 2
}
