{
 "cells": [
  {
   "cell_type": "markdown",
   "metadata": {},
   "source": [
    "## Chương 7: Extracting Image Features and Descriptors"
   ]
  },
  {
   "cell_type": "markdown",
   "metadata": {},
   "source": [
    "#### __Bài tập 1:__ Thử nghiệm với một vài bộ phân loại Haar Cascade được huấn luyện sẵn bằng cv2 và thử phát hiện nhiều khuôn mặt từ các hình ảnh"
   ]
  },
  {
   "cell_type": "markdown",
   "metadata": {},
   "source": [
    "#### __Giải thích code__"
   ]
  },
  {
   "cell_type": "markdown",
   "metadata": {},
   "source": [
    "#### 1. Nhập các thư viện cần thiết"
   ]
  },
  {
   "cell_type": "code",
   "execution_count": null,
   "metadata": {},
   "outputs": [],
   "source": [
    "# numpy để xử lý mảng\n",
    "import numpy as np              \n",
    "# cv2 từ thư viện OpenCV để xử lý ảnh và phát hiện đối tượng\n",
    "import cv2 as cv                "
   ]
  },
  {
   "cell_type": "markdown",
   "metadata": {},
   "source": [
    "#### 2. Tải các bộ phân loại Haar Cascade được huấn luyện sẵn"
   ]
  },
  {
   "cell_type": "code",
   "execution_count": null,
   "metadata": {},
   "outputs": [],
   "source": [
    "# haarcascade_frontalface_default.xml là bộ phân loại Haar Cascade để phát hiện khuôn mặt\n",
    "face_cascade = cv.CascadeClassifier('haarcascade_frontalface_default.xml')\n",
    "# haarcascade_eye.xml là bộ phân loại Haar Cascade để phát hiện mắt\n",
    "eye_cascade = cv.CascadeClassifier('haarcascade_eye.xml')"
   ]
  },
  {
   "cell_type": "markdown",
   "metadata": {},
   "source": [
    "#### 3. Đọc ảnh và chuyển đổi sang grayscale"
   ]
  },
  {
   "cell_type": "code",
   "execution_count": null,
   "metadata": {},
   "outputs": [],
   "source": [
    "# Đọc ảnh từ đường dẫn và lưu vào biến img\n",
    "img = cv.imread('../images/lena.jpg')\n",
    "# Chuyển đổi ảnh từ không gian màu RGB sang grayscale và lưu vào biến gray\n",
    "gray = cv.cvtColor(img, cv.COLOR_BGR2GRAY)"
   ]
  },
  {
   "cell_type": "markdown",
   "metadata": {},
   "source": [
    "#### 4. Phát hiện khuôn mặt"
   ]
  },
  {
   "cell_type": "code",
   "execution_count": null,
   "metadata": {},
   "outputs": [],
   "source": [
    "# Sử dụng face_cascade_detectMultiScale để phát hiện các khuôn mặt trong ảnh grayscale gray\n",
    "# 1.3 là hệ số scale factor, 5 là số lượng láng giềng tối thiểu để giữ lại một vùng\n",
    "faces = face_cascade.detectMultiScale(gray, 1.3, 5)\n",
    "# Lặp qua các khuôn mặt được phát hiện và vẽ hình chữ nhật màu đỏ xung quanh mỗi khuôn mặt trên ảnh gốc img    \n",
    "for (x,y,w,h) in faces:\n",
    "    cv.rectangle(img,(x,y),(x+w,y+h),(255,0,0),2)\n",
    "    # Lưu vùng chứa khuôn mặt trong ảnh grayscale vào roi_gray và trong ảnh gốc vào roi_color\n",
    "    roi_gray = gray[y:y+h, x:x+w]\n",
    "    roi_color = img[y:y+h, x:x+w]\n",
    "    # Sử dụng eye_cascade.detectMultiscale để phát hiện các mắt trong vùng khuôn mặt roi_gray\n",
    "    eyes = eye_cascade.detectMultiScale(roi_gray)\n",
    "    # Lặp qua các mắt được phát hiện và vẽ hình chữ nhật màu xanh lá cây xung quanh mỗi mắt trên vùng khuôn mặt trong ảnh gốc roi_color\n",
    "    for (ex,ey,ew,eh) in eyes:\n",
    "        cv.rectangle(roi_color,(ex,ey),(ex+ew,ey+eh),(0,255,0),2)"
   ]
  },
  {
   "cell_type": "markdown",
   "metadata": {},
   "source": [
    "#### 5. Hiển thị và lưu ảnh đã được xử lý"
   ]
  },
  {
   "cell_type": "code",
   "execution_count": null,
   "metadata": {},
   "outputs": [],
   "source": [
    "# Sử dụng cv.imshow để hiển thị ảnh đã được xử lý với tên cửa sổ là 'img'\n",
    "cv.imshow('img',img)                                    \n",
    "# Sử dụng cv.imwrite để lưu ảnh đã được xử lý thành file jpg\n",
    "cv.imwrite('detected_faces_and_eyes_lena.jpg', img)     \n",
    "# Sử dụng cv.waitKey(0) để chờ người dùng nhấn phím bất kỳ để đóng cửa sổ hiển thị\n",
    "cv.waitKey(0)                                           \n",
    "# Sử dụng cv.destroyAllWindows() để đóng tất cả các cửa sổ hiển thị\n",
    "cv.destroyAllWindows()                                  "
   ]
  }
 ],
 "metadata": {
  "kernelspec": {
   "display_name": "Python 3",
   "language": "python",
   "name": "python3"
  },
  "language_info": {
   "codemirror_mode": {
    "name": "ipython",
    "version": 3
   },
   "file_extension": ".py",
   "mimetype": "text/x-python",
   "name": "python",
   "nbconvert_exporter": "python",
   "pygments_lexer": "ipython3",
   "version": "3.11.9"
  }
 },
 "nbformat": 4,
 "nbformat_minor": 2
}
